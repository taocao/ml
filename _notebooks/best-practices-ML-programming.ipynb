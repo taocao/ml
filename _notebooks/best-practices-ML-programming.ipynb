{
 "cells": [
  {
   "cell_type": "markdown",
   "metadata": {},
   "source": [
    "best practices when programming a deep learning model. These practices mostly refer to how we can write organized, modularized, and extensible python code.\n",
    "\n",
    "Most of them aren’t exclusive for machine learning applications but can be utilized on all sorts of python projects. But here we will see how we can apply them in deep learning using a hands-on programming approach.\n",
    "\n",
    "Machine learning code is ordinary software and should always be treated as one. Therefore, as ordinary code it has a project structure, a documentation and design principles such as object-oriented programming."
   ]
  },
  {
   "cell_type": "code",
   "execution_count": null,
   "metadata": {},
   "outputs": [],
   "source": []
  }
 ],
 "metadata": {
  "kernelspec": {
   "display_name": "Python 3.7.10 64-bit ('3.7.10')",
   "language": "python",
   "name": "python3"
  },
  "language_info": {
   "name": "python",
   "version": "3.7.10"
  },
  "orig_nbformat": 4,
  "vscode": {
   "interpreter": {
    "hash": "3d285bfb3e4d82ccd66c9aa88f718077991223e616d2c99cdd0c93b71ffdc530"
   }
  }
 },
 "nbformat": 4,
 "nbformat_minor": 2
}

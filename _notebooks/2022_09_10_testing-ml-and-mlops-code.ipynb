{
 "cells": [
  {
   "cell_type": "markdown",
   "metadata": {},
   "source": [
    "# Testing Machine Learning and MLOps Code\n",
    "> A tutorial to provide samples of tests for the most common operations in MLOps/Machine Learning projects. Testing the code used for MLOps or Machine Learning projects follows the same principles of any other software project.\n",
    "\n",
    "> Some scenarios might seem different or more difficult to test. The best way to approach this is to always have a test design session, where the focus is on the input/outputs, exceptions and testing the behavior of data transformations. Designing the tests first makes it easier to test as it forces a more modular style, where each function has one purpose, and extracting common functionality functions and modules.\n",
    "\n",
    "> Below are some common operations in MLOps or Data Science projects, along with suggestions on how to test them.\n",
    "\n",
    "* Saving and loading data\n",
    "* Transforming data\n",
    "* Model load or predict\n",
    "* Data validation\n",
    "* Model testing\n",
    "\n",
    "- toc: true \n",
    "- badges: true\n",
    "- comments: true\n",
    "- categories: [jupyter]\n",
    "- image: images/chart-preview.png"
   ]
  },
  {
   "cell_type": "markdown",
   "metadata": {},
   "source": [
    "# Distinguish between traditional software tests and machine learning (ML) tests\n",
    "\n",
    "* software tests check the written logic while ML tests check the learned logic.\n",
    "* ML tests can be further split into testing and evaluation. \n",
    "\n",
    "We’re familiar with ML evaluation where we train a model and evaluate its performance on an unseen validation set; this is done via metrics (e.g., accuracy, Area under Curve of Receiver Operating Characteristic (AUC ROC)) and visuals (e.g., precision-recall curve).\n",
    "\n",
    "ML testing involves checks on model behaviour. Pre-train tests—which can be run without trained parameters—check if our written logic is correct. For example, is classification probability between 0 to 1? Post-train tests check if the learned logic is expected. For example, on the Titanic dataset, we should expect females to have a higher survival probability (relative to males).\n",
    "\n",
    "Taken together, here’s how the workflow might look like. To complement this, we’ll implement a machine learning model and run the following tests on it:\n",
    "\n",
    "- Pre-train tests to ensure correct implementation\n",
    "- Post-train tests to ensure expected learned behaviour\n",
    "- Evaluation to ensure satisfactory model performance\n",
    "\n"
   ]
  },
  {
   "cell_type": "markdown",
   "metadata": {},
   "source": [
    "# Writing Robust Tests for Data & Machine Learning Pipelines\n",
    "\n",
    "How data and machine learning pipelines are tested? Especially why some tests break more often than others. And it’s not because the new code is wrong; often, the new code is correct but the tests break anyway and need to be updated.\n",
    "\n",
    "Why certain tests break—incorrectly—more than others and try to find a better way to test pipelines. We’ll start with a simple pipeline and test it via unit, schema, and integration tests. Then, I’ll introduce new data and logic, observe how tests break, and draw patterns from it. Finally, I’ll suggest how to make pipeline testing less brittle.\n",
    "\n",
    "- Overview of testing scopes: unit, integration, functional, etc.\n",
    "\n",
    "Smaller testing scopes = Shorter feedback loops\n",
    "- An example pipeline: behavioral logs -> batch inference output\n",
    "- Writing tests for our pipeline: unit, schema, integration\n",
    "- Adding new data (visible impressions) and logic to our pipeline\n",
    "- The additive vs. retroactive impact of new data and logic on tests\n",
    "- Related concepts: Test validity, granularity, and scope\n",
    "- Suggestions for more robust pipeline tests"
   ]
  },
  {
   "cell_type": "code",
   "execution_count": null,
   "metadata": {},
   "outputs": [],
   "source": []
  }
 ],
 "metadata": {
  "kernelspec": {
   "display_name": "Python 3.7.10 64-bit ('3.7.10')",
   "language": "python",
   "name": "python3"
  },
  "language_info": {
   "name": "python",
   "version": "3.7.10"
  },
  "orig_nbformat": 4,
  "vscode": {
   "interpreter": {
    "hash": "3d285bfb3e4d82ccd66c9aa88f718077991223e616d2c99cdd0c93b71ffdc530"
   }
  }
 },
 "nbformat": 4,
 "nbformat_minor": 2
}
